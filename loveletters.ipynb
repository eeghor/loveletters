{
 "cells": [
  {
   "cell_type": "code",
   "execution_count": 28,
   "metadata": {},
   "outputs": [],
   "source": [
    "from google.cloud import storage\n",
    "from google.oauth2 import service_account"
   ]
  },
  {
   "cell_type": "code",
   "execution_count": 21,
   "metadata": {},
   "outputs": [],
   "source": [
    "credentials = service_account.Credentials.from_service_account_file('creds/loveletters-366bafa3ef21.json')"
   ]
  },
  {
   "cell_type": "code",
   "execution_count": 29,
   "metadata": {},
   "outputs": [],
   "source": [
    "client = storage.Client(project='loveletters', credentials=credentials)"
   ]
  },
  {
   "cell_type": "code",
   "execution_count": 30,
   "metadata": {},
   "outputs": [],
   "source": [
    "bucket = client.get_bucket('loveletters')"
   ]
  },
  {
   "cell_type": "code",
   "execution_count": 42,
   "metadata": {},
   "outputs": [],
   "source": [
    "from google.cloud import vision\n",
    "from google.cloud.vision import types"
   ]
  },
  {
   "cell_type": "code",
   "execution_count": 34,
   "metadata": {},
   "outputs": [],
   "source": [
    "client_vision = vision.ImageAnnotatorClient(credentials=credentials)"
   ]
  },
  {
   "cell_type": "code",
   "execution_count": 46,
   "metadata": {},
   "outputs": [],
   "source": [
    "request = {'image': {'source': \n",
    "                     {'image_uri': 'gs://loveletters/arn_love_letter_Page_01.png'}}}"
   ]
  },
  {
   "cell_type": "code",
   "execution_count": 47,
   "metadata": {},
   "outputs": [],
   "source": [
    "response = client_vision.annotate_image(request)"
   ]
  },
  {
   "cell_type": "code",
   "execution_count": 43,
   "metadata": {},
   "outputs": [
    {
     "data": {
      "text/plain": [
       "<Type.DOCUMENT_TEXT_DETECTION: 11>"
      ]
     },
     "execution_count": 43,
     "metadata": {},
     "output_type": "execute_result"
    }
   ],
   "source": [
    "vision.enums.Feature.Type.DOCUMENT_TEXT_DETECTION"
   ]
  },
  {
   "cell_type": "code",
   "execution_count": 64,
   "metadata": {},
   "outputs": [],
   "source": [
    "with open('loveletter_1.txt', 'w') as f:\n",
    "    for line in response.full_text_annotation.text.split('\\n'):\n",
    "        f.write(f'{line}\\n')"
   ]
  },
  {
   "cell_type": "code",
   "execution_count": 62,
   "metadata": {},
   "outputs": [
    {
     "data": {
      "text/plain": [
       "['you are mine !',\n",
       " 'And that is exactly how I felt, when I met',\n",
       " 'you der the first time I remember it, as it',\n",
       " 'was yesterday. It was at a party, cake was just',\n",
       " 'served and there you were so golden, so pure,',\n",
       " 'but so creamy. I wanted to resist you, but you',\n",
       " 'Sweet Smell pulled me close and close. There',\n",
       " 'was, holding yon, starring at you, smelling you',\n",
       " 'was love at first smell and then I did it....',\n",
       " 'took a little bite out of your luscious biscuit,',\n",
       " 'another and another, ove and over until only',\n",
       " 'low botlom biscuit with you delicious fluffy',\n",
       " 'ream was lest I took a big eik and all you',\n",
       " 'ream was gone. With the last bite I finished',\n",
       " 'on off. So sweet, so nich so gummy!',\n",
       " 'was hooked Happy ! And never looked back',\n",
       " \"on this day on, you are always by side, at party's,\",\n",
       " 'atherings or even when I take you with me, to',\n",
       " \"batch a move I don't knoco cono Arnott's is as it\",\n",
       " 'ays repeatedly on your package, but let me tell',\n",
       " \"Arnott's, you are mine!\",\n",
       " 'You are my custard cream da je',\n",
       " '']"
      ]
     },
     "execution_count": 62,
     "metadata": {},
     "output_type": "execute_result"
    }
   ],
   "source": [
    "for line in response.full_text_annotation.text.split('\\n')"
   ]
  },
  {
   "cell_type": "code",
   "execution_count": null,
   "metadata": {},
   "outputs": [],
   "source": []
  }
 ],
 "metadata": {
  "kernelspec": {
   "display_name": "Python 3",
   "language": "python",
   "name": "python3"
  },
  "language_info": {
   "codemirror_mode": {
    "name": "ipython",
    "version": 3
   },
   "file_extension": ".py",
   "mimetype": "text/x-python",
   "name": "python",
   "nbconvert_exporter": "python",
   "pygments_lexer": "ipython3",
   "version": "3.7.3"
  }
 },
 "nbformat": 4,
 "nbformat_minor": 2
}
